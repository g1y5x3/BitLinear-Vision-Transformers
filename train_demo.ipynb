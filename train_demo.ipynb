{
 "cells": [
  {
   "cell_type": "code",
   "execution_count": null,
   "id": "8b99a416-4540-4234-ae67-6721b5e6d415",
   "metadata": {},
   "outputs": [],
   "source": [
    "import random\n",
    "import numpy as np\n",
    "\n",
    "import torch\n",
    "from torch.utils.data import SequentialSampler, BatchSampler, DataLoader\n",
    "\n",
    "import datasets.transforms as T\n",
    "from datasets.coco import CocoDetection, collate_fn\n",
    "from models.backbone import ResNetBackbone\n",
    "from models.transformer import TransformerBitLinear\n",
    "from models.detr import DETR, SetCriterion\n",
    "from models.matcher import HungarianMatcher\n",
    "from util.misc import rescale_bboxes, plot_results"
   ]
  },
  {
   "cell_type": "code",
   "execution_count": null,
   "id": "3551d7de",
   "metadata": {},
   "outputs": [],
   "source": [
    "# keep random seed fixed to keep my sanity\n",
    "seed = 42\n",
    "torch.manual_seed(seed)\n",
    "np.random.seed(seed)\n",
    "random.seed(seed)\n",
    "\n",
    "class Args:\n",
    "  coco_path = \"/workspace/coco\"\n",
    "  dataset_file = \"coco\"\n",
    "  masks = False\n",
    "args = Args()"
   ]
  },
  {
   "cell_type": "code",
   "execution_count": null,
   "id": "3f5cca71",
   "metadata": {},
   "outputs": [],
   "source": [
    "\n",
    "scales = [480, 512, 544, 576, 608, 640, 672, 704, 736, 768, 800]\n",
    "transform_train = T.Compose([\n",
    "  # augumentation\n",
    "  T.RandomHorizontalFlip(),\n",
    "  T.RandomSelect(\n",
    "    T.RandomResize(scales, max_size=1333),\n",
    "    T.Compose([\n",
    "      T.RandomResize([400, 500, 600]),\n",
    "      T.RandomSizeCrop(384, 600),\n",
    "      T.RandomResize(scales, max_size=1333),\n",
    "    ])\n",
    "  ),\n",
    "  # normalize\n",
    "  T.Compose([\n",
    "    T.ToTensor(),\n",
    "    T.Normalize([0.485, 0.456, 0.406], [0.229, 0.224, 0.225])\n",
    "  ])\n",
    "])     "
   ]
  },
  {
   "cell_type": "code",
   "execution_count": null,
   "id": "230fbe25",
   "metadata": {},
   "outputs": [],
   "source": [
    "dataset = CocoDetection(\"/workspace/coco/train2017\", \"/workspace/coco/annotations/instances_train2017.json\", transform_train, return_masks=False)\n",
    "sampler_train = SequentialSampler(dataset)\n",
    "batch_sampler_train = BatchSampler(sampler_train, batch_size=8, drop_last=True)\n",
    "data_loader_train = DataLoader(dataset, batch_sampler=batch_sampler_train, collate_fn=collate_fn, num_workers=1)\n",
    "batch_fetcher = iter(data_loader_train)"
   ]
  },
  {
   "cell_type": "code",
   "execution_count": null,
   "id": "ddad378c-9c03-43d8-95c1-394a0c971004",
   "metadata": {},
   "outputs": [],
   "source": [
    "x, x_mask, y = next(batch_fetcher)"
   ]
  },
  {
   "cell_type": "markdown",
   "id": "d2375620-2f27-4b40-844a-31fd8f91053e",
   "metadata": {},
   "source": [
    "## DETR Model"
   ]
  },
  {
   "cell_type": "code",
   "execution_count": null,
   "id": "e1d18675",
   "metadata": {},
   "outputs": [],
   "source": [
    "device = \"cuda\"\n",
    "\n",
    "backbone = ResNetBackbone()\n",
    "transformer = TransformerBitLinear(256, 8, 6, 6, 2048, 0.1)\n",
    "model = DETR(backbone, transformer, num_classes=91, num_queries=100).to(device)\n",
    "\n",
    "matcher = HungarianMatcher()\n",
    "criterion = SetCriterion(91, matcher).to(device)\n",
    "\n",
    "optimizer = torch.optim.AdamW(model.parameters(), lr=1e-4, weight_decay=1e-4)\n",
    "scaler = torch.cuda.amp.GradScaler()"
   ]
  },
  {
   "cell_type": "code",
   "execution_count": null,
   "id": "5ad4208d",
   "metadata": {},
   "outputs": [],
   "source": [
    "model = model.train()\n",
    "x, x_mask = x.to(device), x_mask.to(device) \n",
    "y = [{k: v.to(device) for k, v in t.items()} for t in y]"
   ]
  },
  {
   "cell_type": "code",
   "execution_count": null,
   "id": "439cab92",
   "metadata": {},
   "outputs": [],
   "source": [
    "from torch.utils.tensorboard import SummaryWriter\n",
    "writer = SummaryWriter()\n",
    "\n",
    "for epochs in range(500):\n",
    "  optimizer.zero_grad()\n",
    "  with torch.amp.autocast(device_type=\"cuda\", dtype=torch.float16):\n",
    "    outputs_logits, outputs_boxes = model(x, x_mask)\n",
    "    loss = criterion(outputs_logits, outputs_boxes, y)\n",
    "\n",
    "  writer.add_scalar(\"Loss/train\", loss, epochs)\n",
    " \n",
    "  scaler.scale(loss).backward()\n",
    "  torch.nn.utils.clip_grad_norm_(model.parameters(), 0.1)\n",
    "  scaler.step(optimizer)\n",
    "  scaler.update()"
   ]
  },
  {
   "cell_type": "markdown",
   "id": "303424b8",
   "metadata": {},
   "source": [
    "## Inspect predictions"
   ]
  },
  {
   "cell_type": "code",
   "execution_count": null,
   "id": "ae2d830f",
   "metadata": {},
   "outputs": [],
   "source": [
    "i = 1\n",
    "with torch.no_grad():\n",
    "  h, w = y[i][\"size\"]\n",
    "  im = x[i].cpu().numpy().transpose((1,2,0))\n",
    "  prob = outputs_logits[i,:].softmax(-1)[:, :-1]\n",
    "  keep = prob.max(-1).values > 0.25\n",
    "  plot_results(im, prob[keep], rescale_bboxes(outputs_boxes[i][keep,:], (w,h)))"
   ]
  },
  {
   "cell_type": "markdown",
   "id": "23b517c5",
   "metadata": {},
   "source": [
    "## Inspect ground truth"
   ]
  },
  {
   "cell_type": "code",
   "execution_count": null,
   "id": "24c49585",
   "metadata": {},
   "outputs": [],
   "source": [
    "i = 1\n",
    "h, w = y[i][\"size\"]\n",
    "im = x[i].cpu().numpy().transpose((1,2,0))\n",
    "prob = torch.zeros((len(y[i][\"labels\"]), 91))\n",
    "prob[torch.arange(len(y[i][\"labels\"])), y[i][\"labels\"].cpu()] = 1\n",
    "plot_results(im, prob, rescale_bboxes(y[i][\"boxes\"], (w,h)))"
   ]
  },
  {
   "cell_type": "code",
   "execution_count": null,
   "id": "dda49dc6",
   "metadata": {},
   "outputs": [],
   "source": [
    "import pathlib\n",
    "\n",
    "import torch\n",
    "import torch.utils.data\n",
    "\n",
    "from torchvision import models, datasets, tv_tensors\n",
    "from torchvision.transforms import v2\n",
    "from helpers import plot"
   ]
  },
  {
   "cell_type": "code",
   "execution_count": null,
   "id": "f6c83279",
   "metadata": {},
   "outputs": [],
   "source": [
    "\t# create dataset\n",
    "\tscales = [480, 512, 544, 576, 608, 640, 672, 704, 736, 768, 800]\n",
    "\ttransform_train = T.Compose([\n",
    "\t  # augumentation\n",
    "\t  T.RandomHorizontalFlip(),\n",
    "\t  T.RandomSelect(\n",
    "\t    T.RandomResize(scales, max_size=1333),\n",
    "\t    T.Compose([\n",
    "\t      T.RandomResize([400, 500, 600]),\n",
    "\t      T.RandomSizeCrop(384, 600),\n",
    "\t      T.RandomResize(scales, max_size=1333),\n",
    "\t    ])\n",
    "\t  ),\n",
    "\t  # normalize\n",
    "\t  T.Compose([\n",
    "\t    T.ToTensor(),\n",
    "\t    T.Normalize([0.485, 0.456, 0.406], [0.229, 0.224, 0.225])\n",
    "\t  ])\n",
    "\t])  "
   ]
  },
  {
   "cell_type": "code",
   "execution_count": null,
   "id": "e2ce643f",
   "metadata": {},
   "outputs": [],
   "source": [
    "class NormalizeBoundingBox(object):\n",
    "  def __call__(self, images, targets):\n",
    "    print(images)\n",
    "    print(targets)\n",
    "    return images, targets\n"
   ]
  },
  {
   "cell_type": "code",
   "execution_count": 32,
   "id": "d07c4bc4",
   "metadata": {},
   "outputs": [
    {
     "name": "stdout",
     "output_type": "stream",
     "text": [
      "loading annotations into memory...\n",
      "Done (t=12.52s)\n",
      "creating index...\n",
      "index created!\n"
     ]
    }
   ],
   "source": [
    "torch.manual_seed(0)\n",
    "transforms = v2.Compose(\n",
    "  [\n",
    "    v2.ToImage(),\n",
    "    v2.RandomHorizontalFlip(p=0.5),\n",
    "    v2.RandomShortestSize(min_size=(480, 512, 544, 576, 608, 640, 672, 704, 736, 768, 800), max_size=1333),\n",
    "    v2.ToDtype(torch.float32, scale=True),\n",
    "    v2.Normalize(mean=[0.485, 0.456, 0.406], std=[0.229, 0.224, 0.225]),\n",
    "    v2.ConvertBoundingBoxFormat(\"CXCYWH\"),\n",
    "    v2.SanitizeBoundingBoxes(),\n",
    "    NormalizeBoundingBox(),\n",
    "    v2.ToPureTensor(),\n",
    "  ]\n",
    ")\n",
    "\n",
    "dataset = datasets.CocoDetection(\"/workspace/coco/train2017\", \"/workspace/coco/annotations/instances_train2017.json\", transforms=transforms)\n",
    "dataset = datasets.wrap_dataset_for_transforms_v2(dataset, target_keys=(\"boxes\", \"labels\"))"
   ]
  },
  {
   "cell_type": "code",
   "execution_count": 33,
   "id": "663dd693",
   "metadata": {},
   "outputs": [
    {
     "name": "stdout",
     "output_type": "stream",
     "text": [
      "type(img) = <class 'torch.Tensor'>\n",
      "type(target) = <class 'dict'>\n",
      "target.keys() = dict_keys(['boxes', 'labels'])\n",
      "type(target['boxes']) = <class 'torch.Tensor'>\n",
      "type(target['labels']) = <class 'torch.Tensor'>\n"
     ]
    }
   ],
   "source": [
    "img, target = dataset[0]\n",
    "print(f\"{type(img) = }\\n{type(target) = }\\n{target.keys() = }\")\n",
    "print(f\"{type(target['boxes']) = }\\n{type(target['labels']) = }\")"
   ]
  },
  {
   "cell_type": "code",
   "execution_count": 34,
   "id": "71020088",
   "metadata": {},
   "outputs": [
    {
     "data": {
      "text/plain": [
       "{'boxes': tensor([[488.2363, 484.8947, 896.3616, 419.2320],\n",
       "         [247.1483, 174.0200, 467.9448, 335.3973],\n",
       "         [340.4354, 515.9880, 463.4892, 359.4507],\n",
       "         [331.2679,  93.3167, 110.7280,  68.2440],\n",
       "         [212.7868,  91.3807,  85.1088,  68.4493],\n",
       "         [311.1375, 159.7420, 123.1418, 103.4147],\n",
       "         [334.9979,  55.7700, 138.8826, 104.2360]]),\n",
       " 'labels': tensor([51, 51, 56, 55, 55, 55, 55])}"
      ]
     },
     "execution_count": 34,
     "metadata": {},
     "output_type": "execute_result"
    }
   ],
   "source": [
    "target"
   ]
  },
  {
   "cell_type": "code",
   "execution_count": 31,
   "id": "07b69788",
   "metadata": {},
   "outputs": [
    {
     "ename": "ValueError",
     "evalue": "Boxes need to be in (xmin, ymin, xmax, ymax) format. Use torchvision.ops.box_convert to convert them",
     "output_type": "error",
     "traceback": [
      "\u001b[0;31m---------------------------------------------------------------------------\u001b[0m",
      "\u001b[0;31mValueError\u001b[0m                                Traceback (most recent call last)",
      "Cell \u001b[0;32mIn[31], line 1\u001b[0m\n\u001b[0;32m----> 1\u001b[0m \u001b[43mplot\u001b[49m\u001b[43m(\u001b[49m\u001b[43m[\u001b[49m\u001b[43mdataset\u001b[49m\u001b[43m[\u001b[49m\u001b[38;5;241;43m0\u001b[39;49m\u001b[43m]\u001b[49m\u001b[43m,\u001b[49m\u001b[43m \u001b[49m\u001b[43mdataset\u001b[49m\u001b[43m[\u001b[49m\u001b[38;5;241;43m1\u001b[39;49m\u001b[43m]\u001b[49m\u001b[43m]\u001b[49m\u001b[43m)\u001b[49m\n",
      "File \u001b[0;32m/workspace/BitLinear-Vision-Transformers/helpers.py:38\u001b[0m, in \u001b[0;36mplot\u001b[0;34m(imgs, row_title, **imshow_kwargs)\u001b[0m\n\u001b[1;32m     36\u001b[0m img \u001b[38;5;241m=\u001b[39m F\u001b[38;5;241m.\u001b[39mto_dtype(img, torch\u001b[38;5;241m.\u001b[39muint8, scale\u001b[38;5;241m=\u001b[39m\u001b[38;5;28;01mTrue\u001b[39;00m)\n\u001b[1;32m     37\u001b[0m \u001b[38;5;28;01mif\u001b[39;00m boxes \u001b[38;5;129;01mis\u001b[39;00m \u001b[38;5;129;01mnot\u001b[39;00m \u001b[38;5;28;01mNone\u001b[39;00m:\n\u001b[0;32m---> 38\u001b[0m   img \u001b[38;5;241m=\u001b[39m \u001b[43mdraw_bounding_boxes\u001b[49m\u001b[43m(\u001b[49m\u001b[43mimg\u001b[49m\u001b[43m,\u001b[49m\u001b[43m \u001b[49m\u001b[43mboxes\u001b[49m\u001b[43m,\u001b[49m\u001b[43m \u001b[49m\u001b[43mcolors\u001b[49m\u001b[38;5;241;43m=\u001b[39;49m\u001b[38;5;124;43m\"\u001b[39;49m\u001b[38;5;124;43myellow\u001b[39;49m\u001b[38;5;124;43m\"\u001b[39;49m\u001b[43m,\u001b[49m\u001b[43m \u001b[49m\u001b[43mwidth\u001b[49m\u001b[38;5;241;43m=\u001b[39;49m\u001b[38;5;241;43m3\u001b[39;49m\u001b[43m)\u001b[49m\n\u001b[1;32m     39\u001b[0m \u001b[38;5;28;01mif\u001b[39;00m masks \u001b[38;5;129;01mis\u001b[39;00m \u001b[38;5;129;01mnot\u001b[39;00m \u001b[38;5;28;01mNone\u001b[39;00m:\n\u001b[1;32m     40\u001b[0m   img \u001b[38;5;241m=\u001b[39m draw_segmentation_masks(img, masks\u001b[38;5;241m.\u001b[39mto(torch\u001b[38;5;241m.\u001b[39mbool), colors\u001b[38;5;241m=\u001b[39m[\u001b[38;5;124m\"\u001b[39m\u001b[38;5;124mgreen\u001b[39m\u001b[38;5;124m\"\u001b[39m] \u001b[38;5;241m*\u001b[39m masks\u001b[38;5;241m.\u001b[39mshape[\u001b[38;5;241m0\u001b[39m], alpha\u001b[38;5;241m=\u001b[39m\u001b[38;5;241m.65\u001b[39m)\n",
      "File \u001b[0;32m/opt/conda/lib/python3.10/site-packages/torch/utils/_contextlib.py:115\u001b[0m, in \u001b[0;36mcontext_decorator.<locals>.decorate_context\u001b[0;34m(*args, **kwargs)\u001b[0m\n\u001b[1;32m    112\u001b[0m \u001b[38;5;129m@functools\u001b[39m\u001b[38;5;241m.\u001b[39mwraps(func)\n\u001b[1;32m    113\u001b[0m \u001b[38;5;28;01mdef\u001b[39;00m \u001b[38;5;21mdecorate_context\u001b[39m(\u001b[38;5;241m*\u001b[39margs, \u001b[38;5;241m*\u001b[39m\u001b[38;5;241m*\u001b[39mkwargs):\n\u001b[1;32m    114\u001b[0m     \u001b[38;5;28;01mwith\u001b[39;00m ctx_factory():\n\u001b[0;32m--> 115\u001b[0m         \u001b[38;5;28;01mreturn\u001b[39;00m \u001b[43mfunc\u001b[49m\u001b[43m(\u001b[49m\u001b[38;5;241;43m*\u001b[39;49m\u001b[43margs\u001b[49m\u001b[43m,\u001b[49m\u001b[43m \u001b[49m\u001b[38;5;241;43m*\u001b[39;49m\u001b[38;5;241;43m*\u001b[39;49m\u001b[43mkwargs\u001b[49m\u001b[43m)\u001b[49m\n",
      "File \u001b[0;32m/opt/conda/lib/python3.10/site-packages/torchvision/utils.py:202\u001b[0m, in \u001b[0;36mdraw_bounding_boxes\u001b[0;34m(image, boxes, labels, colors, fill, width, font, font_size)\u001b[0m\n\u001b[1;32m    200\u001b[0m     \u001b[38;5;28;01mraise\u001b[39;00m \u001b[38;5;167;01mValueError\u001b[39;00m(\u001b[38;5;124m\"\u001b[39m\u001b[38;5;124mOnly grayscale and RGB images are supported\u001b[39m\u001b[38;5;124m\"\u001b[39m)\n\u001b[1;32m    201\u001b[0m \u001b[38;5;28;01melif\u001b[39;00m (boxes[:, \u001b[38;5;241m0\u001b[39m] \u001b[38;5;241m>\u001b[39m boxes[:, \u001b[38;5;241m2\u001b[39m])\u001b[38;5;241m.\u001b[39many() \u001b[38;5;129;01mor\u001b[39;00m (boxes[:, \u001b[38;5;241m1\u001b[39m] \u001b[38;5;241m>\u001b[39m boxes[:, \u001b[38;5;241m3\u001b[39m])\u001b[38;5;241m.\u001b[39many():\n\u001b[0;32m--> 202\u001b[0m     \u001b[38;5;28;01mraise\u001b[39;00m \u001b[38;5;167;01mValueError\u001b[39;00m(\n\u001b[1;32m    203\u001b[0m         \u001b[38;5;124m\"\u001b[39m\u001b[38;5;124mBoxes need to be in (xmin, ymin, xmax, ymax) format. Use torchvision.ops.box_convert to convert them\u001b[39m\u001b[38;5;124m\"\u001b[39m\n\u001b[1;32m    204\u001b[0m     )\n\u001b[1;32m    206\u001b[0m num_boxes \u001b[38;5;241m=\u001b[39m boxes\u001b[38;5;241m.\u001b[39mshape[\u001b[38;5;241m0\u001b[39m]\n\u001b[1;32m    208\u001b[0m \u001b[38;5;28;01mif\u001b[39;00m num_boxes \u001b[38;5;241m==\u001b[39m \u001b[38;5;241m0\u001b[39m:\n",
      "\u001b[0;31mValueError\u001b[0m: Boxes need to be in (xmin, ymin, xmax, ymax) format. Use torchvision.ops.box_convert to convert them"
     ]
    },
    {
     "data": {
      "image/png": "[encoded data removed]",
      "text/plain": [
       "<Figure size 640x480 with 2 Axes>"
      ]
     },
     "metadata": {},
     "output_type": "display_data"
    }
   ],
   "source": [
    "plot([dataset[0], dataset[1]])"
   ]
  }
 ],
 "metadata": {
  "kernelspec": {
   "display_name": "Python 3 (ipykernel)",
   "language": "python",
   "name": "python3"
  },
  "language_info": {
   "codemirror_mode": {
    "name": "ipython",
    "version": 3
   },
   "file_extension": ".py",
   "mimetype": "text/x-python",
   "name": "python",
   "nbconvert_exporter": "python",
   "pygments_lexer": "ipython3",
   "version": "3.10.14"
  }
 },
 "nbformat": 4,
 "nbformat_minor": 5
}
