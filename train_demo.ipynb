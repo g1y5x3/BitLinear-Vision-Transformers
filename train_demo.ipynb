{
 "cells": [
  {
   "cell_type": "code",
   "execution_count": null,
   "id": "8b99a416-4540-4234-ae67-6721b5e6d415",
   "metadata": {},
   "outputs": [],
   "source": [
    "import random\n",
    "import numpy as np\n",
    "\n",
    "import torch\n",
    "from torch.utils.data import SequentialSampler, BatchSampler, DataLoader\n",
    "\n",
    "import datasets.transforms as T\n",
    "from datasets.coco import CocoDetection, collate_fn\n",
    "from models.backbone import ResNetBackbone\n",
    "from models.transformer import TransformerBitLinear, Transformer\n",
    "from models.detr import DETR, SetCriterion\n",
    "from models.matcher import HungarianMatcher\n",
    "from util.misc import rescale_bboxes, plot_results"
   ]
  },
  {
   "cell_type": "code",
   "execution_count": null,
   "id": "3551d7de",
   "metadata": {},
   "outputs": [],
   "source": [
    "# keep random seed fixed to keep my sanity\n",
    "seed = 42\n",
    "torch.manual_seed(seed)\n",
    "np.random.seed(seed)\n",
    "random.seed(seed)\n",
    "\n",
    "class Args:\n",
    "  coco_path = \"/workspace/coco\"\n",
    "  dataset_file = \"coco\"\n",
    "  masks = False\n",
    "args = Args()"
   ]
  },
  {
   "cell_type": "code",
   "execution_count": null,
   "id": "3f5cca71",
   "metadata": {},
   "outputs": [],
   "source": [
    "\n",
    "scales = [480, 512, 544, 576, 608, 640, 672, 704, 736, 768, 800]\n",
    "transform_train = T.Compose([\n",
    "  # augumentation\n",
    "  T.RandomHorizontalFlip(),\n",
    "  T.RandomSelect(\n",
    "    T.RandomResize(scales, max_size=1333),\n",
    "    T.Compose([\n",
    "      T.RandomResize([400, 500, 600]),\n",
    "      T.RandomSizeCrop(384, 600),\n",
    "      T.RandomResize(scales, max_size=1333),\n",
    "    ])\n",
    "  ),\n",
    "  # normalize\n",
    "  T.Compose([\n",
    "    T.ToTensor(),\n",
    "    T.Normalize([0.485, 0.456, 0.406], [0.229, 0.224, 0.225])\n",
    "  ])\n",
    "])     "
   ]
  },
  {
   "cell_type": "code",
   "execution_count": null,
   "id": "230fbe25",
   "metadata": {},
   "outputs": [],
   "source": [
    "dataset = CocoDetection(\"/workspace/coco/train2017\", \"/workspace/coco/annotations/instances_train2017.json\", transform_train, return_masks=False)\n",
    "sampler_train = SequentialSampler(dataset)\n",
    "batch_sampler_train = BatchSampler(sampler_train, batch_size=8, drop_last=True)\n",
    "data_loader_train = DataLoader(dataset, batch_sampler=batch_sampler_train, collate_fn=collate_fn, num_workers=1)\n",
    "batch_fetcher = iter(data_loader_train)"
   ]
  },
  {
   "cell_type": "code",
   "execution_count": null,
   "id": "ddad378c-9c03-43d8-95c1-394a0c971004",
   "metadata": {},
   "outputs": [],
   "source": [
    "x, x_mask, y = next(batch_fetcher)"
   ]
  },
  {
   "cell_type": "markdown",
   "id": "d2375620-2f27-4b40-844a-31fd8f91053e",
   "metadata": {},
   "source": [
    "## DETR Model"
   ]
  },
  {
   "cell_type": "code",
   "execution_count": null,
   "id": "e1d18675",
   "metadata": {},
   "outputs": [],
   "source": [
    "device = \"cuda\"\n",
    "\n",
    "backbone = ResNetBackbone()\n",
    "transformer = TransformerBitLinear(256, 8, 6, 6, 2048, 0.1)\n",
    "model = DETR(backbone, transformer, num_classes=91, num_queries=100).to(device)\n",
    "\n",
    "matcher = HungarianMatcher()\n",
    "criterion = SetCriterion(91, matcher).to(device)\n",
    "\n",
    "optimizer = torch.optim.AdamW(model.parameters(), lr=1e-4, weight_decay=1e-4)\n",
    "scaler = torch.cuda.amp.GradScaler()"
   ]
  },
  {
   "cell_type": "code",
   "execution_count": null,
   "id": "50c44b66",
   "metadata": {},
   "outputs": [],
   "source": [
    "n_parameters = 0\n",
    "for n, p in model.named_parameters():\n",
    "  if \"transformer\" in n:\n",
    "    print(n)\n",
    "    n_parameters += p.numel()\n",
    "print('number of params:', n_parameters)"
   ]
  },
  {
   "cell_type": "code",
   "execution_count": null,
   "id": "5ad4208d",
   "metadata": {},
   "outputs": [],
   "source": [
    "model = model.train()\n",
    "x, x_mask = x.to(device), x_mask.to(device) \n",
    "y = [{k: v.to(device) for k, v in t.items()} for t in y]"
   ]
  },
  {
   "cell_type": "code",
   "execution_count": null,
   "id": "439cab92",
   "metadata": {},
   "outputs": [],
   "source": [
    "from torch.utils.tensorboard import SummaryWriter\n",
    "writer = SummaryWriter(log_dir=\"run/transformer-bitlinear-no_quant_post_norm\")\n",
    "\n",
    "for epochs in range(500):\n",
    "  optimizer.zero_grad()\n",
    "  with torch.amp.autocast(device_type=\"cuda\", dtype=torch.float16):\n",
    "    outputs_logits, outputs_boxes = model(x, x_mask)\n",
    "    loss = criterion(outputs_logits, outputs_boxes, y)\n",
    "\n",
    "  writer.add_scalar(\"Loss/train\", loss, epochs)\n",
    " \n",
    "  scaler.scale(loss).backward()\n",
    "  torch.nn.utils.clip_grad_norm_(model.parameters(), 0.1)\n",
    "  scaler.step(optimizer)\n",
    "  scaler.update()"
   ]
  },
  {
   "cell_type": "markdown",
   "id": "303424b8",
   "metadata": {},
   "source": [
    "## Inspect predictions"
   ]
  },
  {
   "cell_type": "code",
   "execution_count": null,
   "id": "ae2d830f",
   "metadata": {},
   "outputs": [],
   "source": [
    "i = 1\n",
    "with torch.no_grad():\n",
    "  h, w = y[i][\"size\"]\n",
    "  im = x[i].cpu().numpy().transpose((1,2,0))\n",
    "  prob = outputs_logits[i,:].softmax(-1)[:, :-1]\n",
    "  keep = prob.max(-1).values > 0.25\n",
    "  plot_results(im, prob[keep], rescale_bboxes(outputs_boxes[i][keep,:], (w,h)))"
   ]
  },
  {
   "cell_type": "markdown",
   "id": "23b517c5",
   "metadata": {},
   "source": [
    "## Inspect ground truth"
   ]
  },
  {
   "cell_type": "code",
   "execution_count": null,
   "id": "24c49585",
   "metadata": {},
   "outputs": [],
   "source": [
    "i = 1\n",
    "h, w = y[i][\"size\"]\n",
    "im = x[i].cpu().numpy().transpose((1,2,0))\n",
    "prob = torch.zeros((len(y[i][\"labels\"]), 91))\n",
    "prob[torch.arange(len(y[i][\"labels\"])), y[i][\"labels\"].cpu()] = 1\n",
    "plot_results(im, prob, rescale_bboxes(y[i][\"boxes\"], (w,h)))"
   ]
  },
  {
   "cell_type": "code",
   "execution_count": null,
   "id": "dda49dc6",
   "metadata": {},
   "outputs": [],
   "source": [
    "import pathlib\n",
    "\n",
    "import torch\n",
    "import torch.utils.data\n",
    "\n",
    "from torchvision import models, datasets, tv_tensors\n",
    "from torchvision.transforms import v2\n",
    "from helpers import plot"
   ]
  },
  {
   "cell_type": "code",
   "execution_count": null,
   "id": "f6c83279",
   "metadata": {},
   "outputs": [],
   "source": [
    "\t# create dataset\n",
    "\tscales = [480, 512, 544, 576, 608, 640, 672, 704, 736, 768, 800]\n",
    "\ttransform_train = T.Compose([\n",
    "\t  # augumentation\n",
    "\t  T.RandomHorizontalFlip(),\n",
    "\t  T.RandomSelect(\n",
    "\t    T.RandomResize(scales, max_size=1333),\n",
    "\t    T.Compose([\n",
    "\t      T.RandomResize([400, 500, 600]),\n",
    "\t      T.RandomSizeCrop(384, 600),\n",
    "\t      T.RandomResize(scales, max_size=1333),\n",
    "\t    ])\n",
    "\t  ),\n",
    "\t  # normalize\n",
    "\t  T.Compose([\n",
    "\t    T.ToTensor(),\n",
    "\t    T.Normalize([0.485, 0.456, 0.406], [0.229, 0.224, 0.225])\n",
    "\t  ])\n",
    "\t])  "
   ]
  },
  {
   "cell_type": "code",
   "execution_count": null,
   "id": "e2ce643f",
   "metadata": {},
   "outputs": [],
   "source": [
    "class NormalizeBoundingBox(object):\n",
    "  def __call__(self, images, targets):\n",
    "    print(images)\n",
    "    print(targets)\n",
    "    return images, targets\n"
   ]
  },
  {
   "cell_type": "code",
   "execution_count": null,
   "id": "d07c4bc4",
   "metadata": {},
   "outputs": [],
   "source": [
    "torch.manual_seed(0)\n",
    "transforms = v2.Compose(\n",
    "  [\n",
    "    v2.ToImage(),\n",
    "    v2.RandomHorizontalFlip(p=0.5),\n",
    "    v2.RandomShortestSize(min_size=(480, 512, 544, 576, 608, 640, 672, 704, 736, 768, 800), max_size=1333),\n",
    "    v2.ToDtype(torch.float32, scale=True),\n",
    "    v2.Normalize(mean=[0.485, 0.456, 0.406], std=[0.229, 0.224, 0.225]),\n",
    "    v2.ConvertBoundingBoxFormat(\"CXCYWH\"),\n",
    "    v2.SanitizeBoundingBoxes(),\n",
    "    NormalizeBoundingBox(),\n",
    "    v2.ToPureTensor(),\n",
    "  ]\n",
    ")\n",
    "\n",
    "dataset = datasets.CocoDetection(\"/workspace/coco/train2017\", \"/workspace/coco/annotations/instances_train2017.json\", transforms=transforms)\n",
    "dataset = datasets.wrap_dataset_for_transforms_v2(dataset, target_keys=(\"boxes\", \"labels\"))"
   ]
  },
  {
   "cell_type": "code",
   "execution_count": null,
   "id": "663dd693",
   "metadata": {},
   "outputs": [],
   "source": [
    "img, target = dataset[0]\n",
    "print(f\"{type(img) = }\\n{type(target) = }\\n{target.keys() = }\")\n",
    "print(f\"{type(target['boxes']) = }\\n{type(target['labels']) = }\")"
   ]
  },
  {
   "cell_type": "code",
   "execution_count": null,
   "id": "71020088",
   "metadata": {},
   "outputs": [],
   "source": [
    "target"
   ]
  },
  {
   "cell_type": "code",
   "execution_count": null,
   "id": "07b69788",
   "metadata": {},
   "outputs": [],
   "source": [
    "plot([dataset[0], dataset[1]])"
   ]
  }
 ],
 "metadata": {
  "kernelspec": {
   "display_name": "Python 3 (ipykernel)",
   "language": "python",
   "name": "python3"
  },
  "language_info": {
   "codemirror_mode": {
    "name": "ipython",
    "version": 3
   },
   "file_extension": ".py",
   "mimetype": "text/x-python",
   "name": "python",
   "nbconvert_exporter": "python",
   "pygments_lexer": "ipython3",
   "version": "3.10.14"
  }
 },
 "nbformat": 4,
 "nbformat_minor": 5
}
